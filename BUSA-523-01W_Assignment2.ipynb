{
 "cells": [
  {
   "cell_type": "code",
   "execution_count": 6,
   "id": "1586eb65",
   "metadata": {},
   "outputs": [
    {
     "name": "stdout",
     "output_type": "stream",
     "text": [
      "Heads: 4989\n",
      "Tails: 5011\n"
     ]
    }
   ],
   "source": [
    "#problem 1\n",
    "import random\n",
    "\n",
    "choices = {'heads': 0,'tails': 0}\n",
    "streaks = list(results.keys())\n",
    "\n",
    "for i in range(10000):\n",
    "    choices[random.choice(streaks)] += 1\n",
    "print('Heads:', choices['heads'])\n",
    "print('Tails:', choices['tails'])\n"
   ]
  },
  {
   "cell_type": "code",
   "execution_count": 7,
   "id": "3ded78cc",
   "metadata": {},
   "outputs": [
    {
     "name": "stdout",
     "output_type": "stream",
     "text": [
      "Enter number of swords, diamonds, gold coins, ropes and potions: 6\n",
      "Enter number of swords, diamonds, gold coins, ropes and potions: 3\n",
      "Enter number of swords, diamonds, gold coins, ropes and potions: 4\n",
      "Enter number of swords, diamonds, gold coins, ropes and potions: 4\n",
      "Enter number of swords, diamonds, gold coins, ropes and potions: 4\n",
      "Inventory:\n",
      "swords 6\n",
      "diamonds 3\n",
      "gold coins 4\n",
      "rope 4\n",
      "potions 4\n"
     ]
    }
   ],
   "source": [
    "#problem 2\n",
    "Inventory_items = ['swords','diamonds','gold coins','rope','potions']\n",
    "UserInput = {}\n",
    "\n",
    "for item in Inventory_items:\n",
    "    UserInput[item] = int(input(\"Enter number of swords, diamonds, gold coins, ropes and potions: \" ))\n",
    "print(\"Inventory:\")\n",
    "for item,num in UserInput.items():\n",
    "    print(item,num)\n",
    "  \n"
   ]
  },
  {
   "cell_type": "code",
   "execution_count": null,
   "id": "a3174574",
   "metadata": {},
   "outputs": [],
   "source": [
    "#Problem 3\n",
    "import numpy\n"
   ]
  },
  {
   "cell_type": "markdown",
   "id": "bf7316da",
   "metadata": {},
   "source": [
    "###### "
   ]
  },
  {
   "cell_type": "code",
   "execution_count": 3,
   "id": "26df7f88",
   "metadata": {
    "scrolled": true
   },
   "outputs": [
    {
     "name": "stdout",
     "output_type": "stream",
     "text": [
      "Player enter a name: t\n",
      "Player1 score is  30\n",
      "Player enter a name: g\n",
      "Player2 score is  35\n",
      "Player enter a name: g\n",
      "Player3 score is  38\n",
      "Player3 is the winner with a total of 38\n"
     ]
    }
   ],
   "source": [
    "#Problem 4\n",
    "import random\n",
    "\n",
    "#Player one input\n",
    "player1 = input(\"Player enter a name: \")\n",
    "\n",
    "chance1 = random.randint(1,6)\n",
    "chance2 = random.randint(1,6)\n",
    "chance3 = random.randint(1,6)\n",
    "chance4 = random.randint(1,6)\n",
    "chance5 = random.randint(1,6)\n",
    "chance6 = random.randint(1,6)\n",
    "chance7 = random.randint(1,6)\n",
    "chance8 = random.randint(1,6)\n",
    "chance9 = random.randint(1,6)\n",
    "chance10 = random.randint(1,6)\n",
    "\n",
    "player1_tot = chance1 + chance2 + chance3 + chance4 + chance5 + chance6 + chance7 + chance8 + chance9 + chance10\n",
    "player1_tot = str(player1_tot)\n",
    "print(\"Player1 score is \" + \" \" + player1_tot)\n",
    "\n",
    "#Player two input\n",
    "player2 = input(\"Player enter a name: \")\n",
    "\n",
    "chance1 = random.randint(1,6)\n",
    "chance2 = random.randint(1,6)\n",
    "chance3 = random.randint(1,6)\n",
    "chance4 = random.randint(1,6)\n",
    "chance5 = random.randint(1,6)\n",
    "chance6 = random.randint(1,6)\n",
    "chance7 = random.randint(1,6)\n",
    "chance8 = random.randint(1,6)\n",
    "chance9 = random.randint(1,6)\n",
    "chance10 = random.randint(1,6)\n",
    "\n",
    "player2_tot = chance1 + chance2 + chance3 + chance4 + chance5 + chance6 + chance7 + chance8 + chance9 + chance10\n",
    "player2_tot = str(player2_tot)\n",
    "print(\"Player2 score is \" + \" \" + player2_tot)\n",
    "\n",
    "#Player three input\n",
    "player3 = input(\"Player enter a name: \")\n",
    "\n",
    "chance1 = random.randint(1,6)\n",
    "chance2 = random.randint(1,6)\n",
    "chance3 = random.randint(1,6)\n",
    "chance4 = random.randint(1,6)\n",
    "chance5 = random.randint(1,6)\n",
    "chance6 = random.randint(1,6)\n",
    "chance7 = random.randint(1,6)\n",
    "chance8 = random.randint(1,6)\n",
    "chance9 = random.randint(1,6)\n",
    "chance10 = random.randint(1,6)\n",
    "\n",
    "player3_tot = chance1 + chance2 + chance3 + chance4 + chance5 + chance6 + chance7 + chance8 + chance9 + chance10\n",
    "player3_tot = str(player3_tot) \n",
    "print(\"Player3 score is \" + \" \" + player3_tot)\n",
    "\n",
    "        \n",
    "if player1_tot > player2_tot and player1_tot > player3_tot:\n",
    "    print(\"Player1 is the winner with a total of\" + \" \" + player1_tot)\n",
    "elif player2_tot > player1_tot and player2_tot > player3_tot:\n",
    "    print(\"Player2 is the winner with a total of\" + \" \" + player2_tot)\n",
    "elif player3_tot > player1_tot and player3_tot > player2_tot:\n",
    "    print(\"Player3 is the winner with a total of\" + \" \" + player3_tot)\n"
   ]
  },
  {
   "cell_type": "code",
   "execution_count": null,
   "id": "8178f70c",
   "metadata": {},
   "outputs": [],
   "source": []
  },
  {
   "cell_type": "code",
   "execution_count": null,
   "id": "3691cfac",
   "metadata": {},
   "outputs": [],
   "source": []
  }
 ],
 "metadata": {
  "kernelspec": {
   "display_name": "Python 3 (ipykernel)",
   "language": "python",
   "name": "python3"
  },
  "language_info": {
   "codemirror_mode": {
    "name": "ipython",
    "version": 3
   },
   "file_extension": ".py",
   "mimetype": "text/x-python",
   "name": "python",
   "nbconvert_exporter": "python",
   "pygments_lexer": "ipython3",
   "version": "3.9.7"
  }
 },
 "nbformat": 4,
 "nbformat_minor": 5
}
