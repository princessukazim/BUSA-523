{
 "cells": [
  {
   "cell_type": "markdown",
   "id": "46a95508",
   "metadata": {},
   "source": [
    "Assignment 1\n",
    "Problem 1"
   ]
  },
  {
   "cell_type": "code",
   "execution_count": null,
   "id": "495a4a06",
   "metadata": {},
   "outputs": [],
   "source": [
    "import random\n",
    "number = random.randint(1,20)\n",
    "i = 0\n",
    "while i < 5 :  \n",
    "    guess = int(input(\"Enter a value between 1 and 20: \"))\n",
    "    if guess != number:\n",
    "        i += 1\n",
    "    else:\n",
    "        print('Congratulations, you guessed it.')\n",
    "        \n",
    "print('Done')"
   ]
  },
  {
   "cell_type": "code",
   "execution_count": 5,
   "id": "6697ec5f",
   "metadata": {},
   "outputs": [
    {
     "name": "stdout",
     "output_type": "stream",
     "text": [
      "Enter a value between 1 and 20: 8\n",
      "No, it is a little lower than that.\n",
      "Enter a value between 1 and 20: 1\n",
      "No, it is a little higher than that.\n",
      "Enter a value between 1 and 20: 5\n",
      "No, it is a little lower than that.\n",
      "Enter a value between 1 and 20: 4\n",
      "Congratulations, you guessed it.\n",
      "Done\n"
     ]
    }
   ],
   "source": [
    "#Problem 2\n",
    "import random\n",
    "number = random.randint(1,20)\n",
    "i = 0\n",
    "while i < 5:  \n",
    "    guess = int(input(\"Enter a value between 1 and 20: \")) #prompts the user to enter a number\n",
    "    if guess != number and guess < number:       #compares to see if the number entered is equal and less that the computer\n",
    "        i += 1\n",
    "        print('No, it is a little higher than that.') \n",
    "        \n",
    "    elif guess != number and guess > number:\n",
    "        print('No, it is a little lower than that.')\n",
    "        \n",
    "    else:\n",
    "        print('Congratulations, you guessed it.')\n",
    "        break\n",
    "print('Done')        \n",
    "\n",
    "       "
   ]
  },
  {
   "cell_type": "code",
   "execution_count": 9,
   "id": "c571355c",
   "metadata": {},
   "outputs": [
    {
     "name": "stdout",
     "output_type": "stream",
     "text": [
      "Enter your move: Rock, Paper, Scissors, Lizard or Spock\n",
      "Paper\n",
      "You Win!\n"
     ]
    }
   ],
   "source": [
    "#problem 3\n",
    "import random\n",
    "print(\"Enter your move: Rock, Paper, Scissors, Lizard or Spock\")\n",
    "user = input()\n",
    "number = random.randint(1,5)\n",
    "if number == 1:\n",
    "    computer = \"Rock\"\n",
    "elif number == 2:\n",
    "    computer = \"Paper\"\n",
    "elif number == 3:\n",
    "    computer = \"Scissors\"\n",
    "elif number == 4:\n",
    "    computer = \"Lizard\"\n",
    "elif number == 5:\n",
    "    computer = \"Spock\"\n",
    "    \n",
    "    \n",
    "if user == computer:\n",
    "    print(\"Its a Tie\")\n",
    "elif user == \"Rock\" and computer == \"Scissors\":\n",
    "    print(\"You Win!\")\n",
    "elif user == \"Paper\" and computer == \"Rock\":\n",
    "    print(\"You Win!\")\n",
    "elif user == \"Scissors\" and computer == \"Paper\":\n",
    "    print(\"You Win!\")\n",
    "elif user == \"Lizard\" and computer == \"Paper\":\n",
    "    print(\"You Win!\")\n",
    "elif user == \"Lizard\" and computer == \"Spock\":\n",
    "    print(\"You Win!\")\n",
    "elif user == \"Rock\" and computer == \"Lizard\":\n",
    "    print(\"You Win!\")\n",
    "elif user == \"Scissors\" and computer == \"Lizard\":\n",
    "    print(\"You Win!\")\n",
    "elif user == \"Spock\" and computer == \"Scissors\":\n",
    "    print(\"You Win!\")\n",
    "elif user == \"Spock\" and computer == \"Rock\":\n",
    "    print(\"You Win!\")\n",
    "elif user == \"Paper\" and computer == \"Spock\":\n",
    "    print(\"You Win!\")   \n",
    "elif user == \"Scissors\" and computer == \"Rock\":\n",
    "    print(\"You Lose..\")\n",
    "elif user == \"Rock\" and computer == \"Paper\":\n",
    "    print(\"You Lose..\")\n",
    "elif user == \"Paper\" and computer == \"Scissors\":\n",
    "    print(\"You Lose..\")\n",
    "elif user == \"Paper\" and computer == \"Lizard\":\n",
    "    print(\"You Lose..\")\n",
    "elif user == \"Spock\" and computer == \"Lizard\":\n",
    "    print(\"You Lose..\")\n",
    "elif user == \"Lizard\" and computer == \"Rock\":\n",
    "    print(\"You Lose!\")\n",
    "elif user == \"Lizard\" and computer == \"Scissors\":\n",
    "    print(\"You Lose..\")\n",
    "elif user == \"Scissors\" and computer == \"Spock\":\n",
    "    print(\"You Lose..\")\n",
    "elif user == \"Rock\" and computer == \"Spock\":\n",
    "    print(\"You Lose..\")\n",
    "elif user == \"Spock\" and computer == \"Paper\":\n",
    "    print(\"You Lose..\")\n",
    "     \n",
    "else:\n",
    "    print(\"Invalid entry\")"
   ]
  },
  {
   "cell_type": "code",
   "execution_count": null,
   "id": "f910cc28",
   "metadata": {},
   "outputs": [],
   "source": []
  }
 ],
 "metadata": {
  "kernelspec": {
   "display_name": "Python 3 (ipykernel)",
   "language": "python",
   "name": "python3"
  },
  "language_info": {
   "codemirror_mode": {
    "name": "ipython",
    "version": 3
   },
   "file_extension": ".py",
   "mimetype": "text/x-python",
   "name": "python",
   "nbconvert_exporter": "python",
   "pygments_lexer": "ipython3",
   "version": "3.9.7"
  }
 },
 "nbformat": 4,
 "nbformat_minor": 5
}
